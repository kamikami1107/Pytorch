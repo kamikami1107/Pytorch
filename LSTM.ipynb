{
 "cells": [
  {
   "cell_type": "code",
   "execution_count": 1,
   "metadata": {
    "ExecuteTime": {
     "end_time": "2022-11-21T00:33:02.307079Z",
     "start_time": "2022-11-21T00:32:58.467615Z"
    },
    "colab": {},
    "colab_type": "code",
    "id": "Vv3Y_1AbNSmp"
   },
   "outputs": [],
   "source": [
    "import torch\n",
    "import torch.nn as nn\n",
    "import torch.optim as optim\n",
    "import matplotlib.pyplot as plt\n",
    "import numpy as np\n",
    "plt.style.use(\"ggplot\")\n",
    "%matplotlib inline"
   ]
  },
  {
   "cell_type": "code",
   "execution_count": 2,
   "metadata": {
    "ExecuteTime": {
     "end_time": "2022-11-21T00:33:02.312164Z",
     "start_time": "2022-11-21T00:33:02.309464Z"
    },
    "colab": {},
    "colab_type": "code",
    "id": "Ec4qpj0kSd_9"
   },
   "outputs": [],
   "source": [
    "x = np.linspace(0, 499, 500)\n",
    "y = np.sin(x * 2 * np.pi / 50)"
   ]
  },
  {
   "cell_type": "code",
   "execution_count": 3,
   "metadata": {
    "ExecuteTime": {
     "end_time": "2022-11-21T00:33:02.451969Z",
     "start_time": "2022-11-21T00:33:02.314856Z"
    },
    "colab": {
     "base_uri": "https://localhost:8080/",
     "height": 283
    },
    "colab_type": "code",
    "id": "QObIn6JJSnKz",
    "outputId": "75433405-0256-46bc-a5b0-f2008aa395c1"
   },
   "outputs": [
    {
     "data": {
      "text/plain": [
       "[<matplotlib.lines.Line2D at 0x7fbbc869a908>]"
      ]
     },
     "execution_count": 3,
     "metadata": {},
     "output_type": "execute_result"
    },
    {
     "data": {
      "image/png": "[encoded data removed]",
      "text/plain": [
       "<Figure size 432x288 with 1 Axes>"
      ]
     },
     "metadata": {
      "needs_background": "light"
     },
     "output_type": "display_data"
    }
   ],
   "source": [
    "plt.plot(x, y)"
   ]
  },
  {
   "cell_type": "code",
   "execution_count": 4,
   "metadata": {
    "ExecuteTime": {
     "end_time": "2022-11-21T00:33:02.457533Z",
     "start_time": "2022-11-21T00:33:02.454087Z"
    },
    "colab": {},
    "colab_type": "code",
    "id": "x3gfKQE2SpAX"
   },
   "outputs": [],
   "source": [
    "def make_sequence_data(y, num_sequence):\n",
    "    num_data = len(y)\n",
    "    seq_data = []\n",
    "    target_data = []\n",
    "    for i in range(num_data - num_sequence):\n",
    "        seq_data.append(y[i:i+num_sequence])\n",
    "        target_data.append(y[i+num_sequence:i+num_sequence+1])\n",
    "    seq_arr = np.array(seq_data)\n",
    "    target_arr = np.array(target_data)\n",
    "    return seq_arr, target_arr"
   ]
  },
  {
   "cell_type": "code",
   "execution_count": 5,
   "metadata": {
    "ExecuteTime": {
     "end_time": "2022-11-21T00:33:02.462817Z",
     "start_time": "2022-11-21T00:33:02.459223Z"
    },
    "colab": {},
    "colab_type": "code",
    "id": "NDskciXVTdyh"
   },
   "outputs": [],
   "source": [
    "seq_length = 40\n",
    "y_seq, y_target = make_sequence_data(y, seq_length)"
   ]
  },
  {
   "cell_type": "code",
   "execution_count": 6,
   "metadata": {
    "ExecuteTime": {
     "end_time": "2022-11-21T00:33:02.467654Z",
     "start_time": "2022-11-21T00:33:02.464179Z"
    },
    "colab": {
     "base_uri": "https://localhost:8080/",
     "height": 35
    },
    "colab_type": "code",
    "id": "6Lg1e7DOTugS",
    "outputId": "c381e598-917f-4e8f-dcdc-2a93b621cc35"
   },
   "outputs": [
    {
     "data": {
      "text/plain": [
       "(460, 40)"
      ]
     },
     "execution_count": 6,
     "metadata": {},
     "output_type": "execute_result"
    }
   ],
   "source": [
    "y_seq.shape"
   ]
  },
  {
   "cell_type": "code",
   "execution_count": 7,
   "metadata": {
    "ExecuteTime": {
     "end_time": "2022-11-21T00:33:02.471765Z",
     "start_time": "2022-11-21T00:33:02.469067Z"
    },
    "colab": {
     "base_uri": "https://localhost:8080/",
     "height": 35
    },
    "colab_type": "code",
    "id": "TiCtFULNTwrS",
    "outputId": "6acf2317-8225-4a61-bd40-bce64f729a76"
   },
   "outputs": [
    {
     "data": {
      "text/plain": [
       "(460, 1)"
      ]
     },
     "execution_count": 7,
     "metadata": {},
     "output_type": "execute_result"
    }
   ],
   "source": [
    "y_target.shape"
   ]
  },
  {
   "cell_type": "code",
   "execution_count": 8,
   "metadata": {
    "ExecuteTime": {
     "end_time": "2022-11-21T00:33:02.477462Z",
     "start_time": "2022-11-21T00:33:02.474796Z"
    },
    "colab": {},
    "colab_type": "code",
    "id": "9t2YlmrcT70B"
   },
   "outputs": [],
   "source": [
    "num_test = 10\n",
    "y_seq_train = y_seq[:-num_test]\n",
    "y_seq_test = y_seq[-num_test:]\n",
    "y_target_train = y_target[:-num_test]\n",
    "y_target_test = y_target[-num_test:]"
   ]
  },
  {
   "cell_type": "code",
   "execution_count": 9,
   "metadata": {
    "ExecuteTime": {
     "end_time": "2022-11-21T00:33:02.483723Z",
     "start_time": "2022-11-21T00:33:02.480344Z"
    },
    "colab": {
     "base_uri": "https://localhost:8080/",
     "height": 251
    },
    "colab_type": "code",
    "id": "ges-qrxOUUew",
    "outputId": "aa1f5fd6-f55c-4227-e973-fc1aa8393162"
   },
   "outputs": [
    {
     "data": {
      "text/plain": [
       "array([[ 0.00000000e+00,  1.25333234e-01,  2.48689887e-01, ...,\n",
       "        -9.98026728e-01, -9.98026728e-01, -9.82287251e-01],\n",
       "       [ 1.25333234e-01,  2.48689887e-01,  3.68124553e-01, ...,\n",
       "        -9.98026728e-01, -9.82287251e-01, -9.51056516e-01],\n",
       "       [ 2.48689887e-01,  3.68124553e-01,  4.81753674e-01, ...,\n",
       "        -9.82287251e-01, -9.51056516e-01, -9.04827052e-01],\n",
       "       ...,\n",
       "       [-3.68124553e-01, -2.48689887e-01, -1.25333234e-01, ...,\n",
       "        -9.04827052e-01, -9.51056516e-01, -9.82287251e-01],\n",
       "       [-2.48689887e-01, -1.25333234e-01, -2.20436424e-15, ...,\n",
       "        -9.51056516e-01, -9.82287251e-01, -9.98026728e-01],\n",
       "       [-1.25333234e-01, -2.20436424e-15,  1.25333234e-01, ...,\n",
       "        -9.82287251e-01, -9.98026728e-01, -9.98026728e-01]])"
      ]
     },
     "execution_count": 9,
     "metadata": {},
     "output_type": "execute_result"
    }
   ],
   "source": [
    "y_seq_train"
   ]
  },
  {
   "cell_type": "code",
   "execution_count": 10,
   "metadata": {
    "ExecuteTime": {
     "end_time": "2022-11-21T00:33:02.488575Z",
     "start_time": "2022-11-21T00:33:02.485146Z"
    },
    "colab": {
     "base_uri": "https://localhost:8080/",
     "height": 35
    },
    "colab_type": "code",
    "id": "C90W9HfnUXlS",
    "outputId": "f447fcd2-468f-44ca-8365-65ed1125557a"
   },
   "outputs": [
    {
     "data": {
      "text/plain": [
       "(450, 40)"
      ]
     },
     "execution_count": 10,
     "metadata": {},
     "output_type": "execute_result"
    }
   ],
   "source": [
    "y_seq_train.shape"
   ]
  },
  {
   "cell_type": "code",
   "execution_count": 11,
   "metadata": {
    "ExecuteTime": {
     "end_time": "2022-11-21T00:33:02.494650Z",
     "start_time": "2022-11-21T00:33:02.491047Z"
    },
    "colab": {},
    "colab_type": "code",
    "id": "hrBOpFK_Uah5"
   },
   "outputs": [],
   "source": [
    "y_seq_t = torch.FloatTensor(y_seq_train)\n",
    "y_target_t = torch.FloatTensor(y_target_train)"
   ]
  },
  {
   "cell_type": "code",
   "execution_count": 12,
   "metadata": {
    "ExecuteTime": {
     "end_time": "2022-11-21T00:33:02.499633Z",
     "start_time": "2022-11-21T00:33:02.496027Z"
    },
    "colab": {},
    "colab_type": "code",
    "id": "a9BMdDdrUoji"
   },
   "outputs": [],
   "source": [
    "class LSTM(nn.Module):\n",
    "    def __init__(self, hidden_size):\n",
    "        super().__init__()\n",
    "        self.hidden_size = hidden_size\n",
    "        self.lstm = nn.LSTM(input_size=1, hidden_size=self.hidden_size)\n",
    "        self.linear = nn.Linear(self.hidden_size, 1)\n",
    "    def forward(self, x):\n",
    "        x, _ = self.lstm(x)\n",
    "        x_last = x[-1]\n",
    "        x = self.linear(x_last)\n",
    "        return x"
   ]
  },
  {
   "cell_type": "code",
   "execution_count": 13,
   "metadata": {
    "ExecuteTime": {
     "end_time": "2022-11-21T00:33:02.504482Z",
     "start_time": "2022-11-21T00:33:02.500971Z"
    },
    "colab": {},
    "colab_type": "code",
    "id": "L9lE_iTnVmp2"
   },
   "outputs": [],
   "source": [
    "model = LSTM(100)"
   ]
  },
  {
   "cell_type": "code",
   "execution_count": 14,
   "metadata": {
    "ExecuteTime": {
     "end_time": "2022-11-21T00:33:02.507972Z",
     "start_time": "2022-11-21T00:33:02.505810Z"
    },
    "colab": {},
    "colab_type": "code",
    "id": "Mt206f2bVpuB"
   },
   "outputs": [],
   "source": [
    "criterion = nn.MSELoss()\n",
    "optimizer = optim.Adam(model.parameters(), lr=0.001)"
   ]
  },
  {
   "cell_type": "code",
   "execution_count": 15,
   "metadata": {
    "ExecuteTime": {
     "end_time": "2022-11-21T00:33:02.512962Z",
     "start_time": "2022-11-21T00:33:02.509409Z"
    },
    "colab": {
     "base_uri": "https://localhost:8080/",
     "height": 35
    },
    "colab_type": "code",
    "id": "cYhRwhm7Vx2i",
    "outputId": "82c2e339-1a39-433f-c070-1da56cd4d3e9"
   },
   "outputs": [
    {
     "data": {
      "text/plain": [
       "torch.Size([450, 40])"
      ]
     },
     "execution_count": 15,
     "metadata": {},
     "output_type": "execute_result"
    }
   ],
   "source": [
    "y_seq_t.size()"
   ]
  },
  {
   "cell_type": "code",
   "execution_count": 16,
   "metadata": {
    "ExecuteTime": {
     "end_time": "2022-11-21T00:33:02.518015Z",
     "start_time": "2022-11-21T00:33:02.514965Z"
    },
    "colab": {},
    "colab_type": "code",
    "id": "YZ3CvwayV2Da"
   },
   "outputs": [],
   "source": [
    "y_seq_t = y_seq_t.permute(1, 0)\n",
    "y_target_t = y_target_t.permute(1, 0)"
   ]
  },
  {
   "cell_type": "code",
   "execution_count": 17,
   "metadata": {
    "ExecuteTime": {
     "end_time": "2022-11-21T00:33:02.523637Z",
     "start_time": "2022-11-21T00:33:02.519736Z"
    },
    "colab": {
     "base_uri": "https://localhost:8080/",
     "height": 35
    },
    "colab_type": "code",
    "id": "fe1N001pWJFC",
    "outputId": "f725cb0f-2c36-47dd-a42b-e709c262d966"
   },
   "outputs": [
    {
     "data": {
      "text/plain": [
       "torch.Size([40, 450])"
      ]
     },
     "execution_count": 17,
     "metadata": {},
     "output_type": "execute_result"
    }
   ],
   "source": [
    "y_seq_t.size()"
   ]
  },
  {
   "cell_type": "code",
   "execution_count": 18,
   "metadata": {
    "ExecuteTime": {
     "end_time": "2022-11-21T00:33:02.531277Z",
     "start_time": "2022-11-21T00:33:02.526888Z"
    },
    "colab": {},
    "colab_type": "code",
    "id": "4-0dZsuhWMRJ"
   },
   "outputs": [],
   "source": [
    "y_seq_t = y_seq_t.unsqueeze(dim=-1)\n",
    "y_target_t = y_target_t.unsqueeze(dim=-1)"
   ]
  },
  {
   "cell_type": "code",
   "execution_count": 19,
   "metadata": {
    "ExecuteTime": {
     "end_time": "2022-11-21T00:33:02.537395Z",
     "start_time": "2022-11-21T00:33:02.534117Z"
    },
    "colab": {
     "base_uri": "https://localhost:8080/",
     "height": 35
    },
    "colab_type": "code",
    "id": "T18mUJxDWg9R",
    "outputId": "294a29b9-ec68-4468-c247-cf8e90f394cf"
   },
   "outputs": [
    {
     "data": {
      "text/plain": [
       "torch.Size([40, 450, 1])"
      ]
     },
     "execution_count": 19,
     "metadata": {},
     "output_type": "execute_result"
    }
   ],
   "source": [
    "y_seq_t.size()"
   ]
  },
  {
   "cell_type": "code",
   "execution_count": 20,
   "metadata": {
    "ExecuteTime": {
     "end_time": "2022-11-21T00:33:12.940502Z",
     "start_time": "2022-11-21T00:33:02.541549Z"
    },
    "colab": {
     "base_uri": "https://localhost:8080/",
     "height": 217
    },
    "colab_type": "code",
    "id": "9ZoEzlz7WjKq",
    "outputId": "12562ff1-4570-4dbf-f1ff-bb2201ee051c"
   },
   "outputs": [
    {
     "name": "stderr",
     "output_type": "stream",
     "text": [
      "/Users/SHOTA/.pyenv/versions/anaconda3-5.3.1/lib/python3.7/site-packages/torch/nn/modules/loss.py:446: UserWarning: Using a target size (torch.Size([1, 450, 1])) that is different to the input size (torch.Size([450, 1])). This will likely lead to incorrect results due to broadcasting. Please ensure they have the same size.\n",
      "  return F.mse_loss(input, target, reduction=self.reduction)\n"
     ]
    },
    {
     "name": "stdout",
     "output_type": "stream",
     "text": [
      "epoch: 0, loss: 0.516844630241394\n",
      "epoch: 10, loss: 0.39332836866378784\n",
      "epoch: 20, loss: 0.23966319859027863\n",
      "epoch: 30, loss: 0.04863341152667999\n",
      "epoch: 40, loss: 0.016589798033237457\n",
      "epoch: 50, loss: 0.008473816327750683\n",
      "epoch: 60, loss: 0.002512071281671524\n",
      "epoch: 70, loss: 0.0009772148914635181\n"
     ]
    }
   ],
   "source": [
    "num_epochs = 80\n",
    "losses = []\n",
    "for epoch in range(num_epochs):\n",
    "    optimizer.zero_grad()\n",
    "    output = model(y_seq_t)\n",
    "    loss = criterion(output, y_target_t)\n",
    "    loss.backward()\n",
    "    losses.append(loss.item())\n",
    "    optimizer.step()\n",
    "    if epoch % 10 == 0:\n",
    "        print(\"epoch: {}, loss: {}\".format(epoch, loss.item()))"
   ]
  },
  {
   "cell_type": "code",
   "execution_count": 21,
   "metadata": {
    "ExecuteTime": {
     "end_time": "2022-11-21T00:33:13.051756Z",
     "start_time": "2022-11-21T00:33:12.941933Z"
    },
    "colab": {
     "base_uri": "https://localhost:8080/",
     "height": 283
    },
    "colab_type": "code",
    "id": "KJ5pd7BCXLvN",
    "outputId": "d5464a7e-aeea-4489-894b-d79479526d85"
   },
   "outputs": [
    {
     "data": {
      "text/plain": [
       "[<matplotlib.lines.Line2D at 0x7fbba82565c0>]"
      ]
     },
     "execution_count": 21,
     "metadata": {},
     "output_type": "execute_result"
    },
    {
     "data": {
      "image/png": "[encoded data removed]",
      "text/plain": [
       "<Figure size 432x288 with 1 Axes>"
      ]
     },
     "metadata": {
      "needs_background": "light"
     },
     "output_type": "display_data"
    }
   ],
   "source": [
    "plt.plot(losses)"
   ]
  },
  {
   "cell_type": "code",
   "execution_count": 22,
   "metadata": {
    "ExecuteTime": {
     "end_time": "2022-11-21T00:33:13.057892Z",
     "start_time": "2022-11-21T00:33:13.053629Z"
    },
    "colab": {},
    "colab_type": "code",
    "id": "pqpd_QIlXTLq"
   },
   "outputs": [],
   "source": [
    "y_seq_test_t = torch.FloatTensor(y_seq_test)\n",
    "y_seq_test_t = y_seq_test_t.permute(1, 0)\n",
    "y_seq_test_t = y_seq_test_t.unsqueeze(dim=-1)"
   ]
  },
  {
   "cell_type": "code",
   "execution_count": 23,
   "metadata": {
    "ExecuteTime": {
     "end_time": "2022-11-21T00:33:13.066578Z",
     "start_time": "2022-11-21T00:33:13.063929Z"
    },
    "colab": {
     "base_uri": "https://localhost:8080/",
     "height": 35
    },
    "colab_type": "code",
    "id": "eFsu3QKyXrtR",
    "outputId": "df4fbd5b-80d0-47af-8a09-bf5c0f1e3b4f"
   },
   "outputs": [
    {
     "data": {
      "text/plain": [
       "torch.Size([40, 10, 1])"
      ]
     },
     "execution_count": 23,
     "metadata": {},
     "output_type": "execute_result"
    }
   ],
   "source": [
    "y_seq_test_t.size()"
   ]
  },
  {
   "cell_type": "code",
   "execution_count": 24,
   "metadata": {
    "ExecuteTime": {
     "end_time": "2022-11-21T00:33:13.078366Z",
     "start_time": "2022-11-21T00:33:13.072459Z"
    },
    "colab": {},
    "colab_type": "code",
    "id": "HwkgeHNVX0qb"
   },
   "outputs": [],
   "source": [
    "y_pred = model(y_seq_test_t)"
   ]
  },
  {
   "cell_type": "code",
   "execution_count": 25,
   "metadata": {
    "ExecuteTime": {
     "end_time": "2022-11-21T00:33:13.084455Z",
     "start_time": "2022-11-21T00:33:13.080157Z"
    },
    "colab": {
     "base_uri": "https://localhost:8080/",
     "height": 35
    },
    "colab_type": "code",
    "id": "SLxqKUELX6B8",
    "outputId": "4beaf7d6-adaa-4d11-bbb8-c2c2072fef0a"
   },
   "outputs": [
    {
     "data": {
      "text/plain": [
       "torch.Size([10, 1])"
      ]
     },
     "execution_count": 25,
     "metadata": {},
     "output_type": "execute_result"
    }
   ],
   "source": [
    "y_pred.size()"
   ]
  },
  {
   "cell_type": "code",
   "execution_count": 26,
   "metadata": {
    "ExecuteTime": {
     "end_time": "2022-11-21T00:33:13.230530Z",
     "start_time": "2022-11-21T00:33:13.087540Z"
    },
    "colab": {
     "base_uri": "https://localhost:8080/",
     "height": 283
    },
    "colab_type": "code",
    "id": "tzUFTFdjX-Vx",
    "outputId": "4a14b3c1-092f-400b-8863-5cbd773513f7"
   },
   "outputs": [
    {
     "data": {
      "text/plain": [
       "(450.0, 500.0)"
      ]
     },
     "execution_count": 26,
     "metadata": {},
     "output_type": "execute_result"
    },
    {
     "data": {
      "image/png": "[encoded data removed]",
      "text/plain": [
       "<Figure size 432x288 with 1 Axes>"
      ]
     },
     "metadata": {
      "needs_background": "light"
     },
     "output_type": "display_data"
    }
   ],
   "source": [
    "plt.plot(x, y)\n",
    "plt.plot(np.arange(490, 500), y_pred.detach())\n",
    "plt.xlim([450, 500])"
   ]
  },
  {
   "cell_type": "code",
   "execution_count": null,
   "metadata": {
    "colab": {},
    "colab_type": "code",
    "id": "Z_v9SGs1YOcj"
   },
   "outputs": [],
   "source": []
  }
 ],
 "metadata": {
  "colab": {
   "name": "LSTM.ipynb",
   "provenance": []
  },
  "kernelspec": {
   "display_name": "Python 3",
   "language": "python",
   "name": "python3"
  },
  "language_info": {
   "codemirror_mode": {
    "name": "ipython",
    "version": 3
   },
   "file_extension": ".py",
   "mimetype": "text/x-python",
   "name": "python",
   "nbconvert_exporter": "python",
   "pygments_lexer": "ipython3",
   "version": "3.7.2"
  },
  "nbTranslate": {
   "displayLangs": [
    "*"
   ],
   "hotkey": "alt-t",
   "langInMainMenu": true,
   "sourceLang": "en",
   "targetLang": "fr",
   "useGoogleTranslate": true
  },
  "toc": {
   "base_numbering": 1,
   "nav_menu": {},
   "number_sections": true,
   "sideBar": true,
   "skip_h1_title": false,
   "title_cell": "Table of Contents",
   "title_sidebar": "Contents",
   "toc_cell": false,
   "toc_position": {},
   "toc_section_display": true,
   "toc_window_display": false
  },
  "varInspector": {
   "cols": {
    "lenName": 16,
    "lenType": 16,
    "lenVar": 40
   },
   "kernels_config": {
    "python": {
     "delete_cmd_postfix": "",
     "delete_cmd_prefix": "del ",
     "library": "var_list.py",
     "varRefreshCmd": "print(var_dic_list())"
    },
    "r": {
     "delete_cmd_postfix": ") ",
     "delete_cmd_prefix": "rm(",
     "library": "var_list.r",
     "varRefreshCmd": "cat(var_dic_list()) "
    }
   },
   "types_to_exclude": [
    "module",
    "function",
    "builtin_function_or_method",
    "instance",
    "_Feature"
   ],
   "window_display": false
  }
 },
 "nbformat": 4,
 "nbformat_minor": 1
}
